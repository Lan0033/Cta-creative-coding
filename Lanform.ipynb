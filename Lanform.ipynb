{
 "cells": [
  {
   "cell_type": "code",
   "execution_count": 1,
   "id": "e80177f6-a4ce-46e1-9db0-0b82c6b62801",
   "metadata": {},
   "outputs": [],
   "source": [
    "#add Github workshop\n",
    "import pandas as pd\n",
    "import matplotlib.pyplot as plt\n",
    "%matplotlib inline"
   ]
  },
  {
   "cell_type": "code",
   "execution_count": 3,
   "id": "426cdbd9-b9fe-487b-9bfc-77d4825acae3",
   "metadata": {},
   "outputs": [],
   "source": [
    "path = 'lanform.csv'"
   ]
  },
  {
   "cell_type": "code",
   "execution_count": 4,
   "id": "a6648c9c-bb61-410a-a694-5cd632f9c740",
   "metadata": {},
   "outputs": [
    {
     "data": {
      "text/html": [
       "<div>\n",
       "<style scoped>\n",
       "    .dataframe tbody tr th:only-of-type {\n",
       "        vertical-align: middle;\n",
       "    }\n",
       "\n",
       "    .dataframe tbody tr th {\n",
       "        vertical-align: top;\n",
       "    }\n",
       "\n",
       "    .dataframe thead th {\n",
       "        text-align: right;\n",
       "    }\n",
       "</style>\n",
       "<table border=\"1\" class=\"dataframe\">\n",
       "  <thead>\n",
       "    <tr style=\"text-align: right;\">\n",
       "      <th></th>\n",
       "      <th>Timestamp</th>\n",
       "      <th>pet</th>\n",
       "      <th>Gender</th>\n",
       "      <th>pokemon</th>\n",
       "      <th>day_with_pokemon</th>\n",
       "      <th>animal</th>\n",
       "      <th>talk_pokemon</th>\n",
       "    </tr>\n",
       "  </thead>\n",
       "  <tbody>\n",
       "    <tr>\n",
       "      <th>0</th>\n",
       "      <td>2024/10/18 2:57:33 pm CET</td>\n",
       "      <td>No</td>\n",
       "      <td>Female</td>\n",
       "      <td>Gengar</td>\n",
       "      <td>Battle</td>\n",
       "      <td>Kangaroo</td>\n",
       "      <td>That the end of the world is near ....</td>\n",
       "    </tr>\n",
       "    <tr>\n",
       "      <th>1</th>\n",
       "      <td>2024/10/18 2:57:54 pm CET</td>\n",
       "      <td>Yes</td>\n",
       "      <td>Female</td>\n",
       "      <td>Pikachu</td>\n",
       "      <td>Picnic</td>\n",
       "      <td>Snail</td>\n",
       "      <td>kill you</td>\n",
       "    </tr>\n",
       "    <tr>\n",
       "      <th>2</th>\n",
       "      <td>2024/10/18 2:58:23 pm CET</td>\n",
       "      <td>Yes</td>\n",
       "      <td>Male</td>\n",
       "      <td>Squirtle</td>\n",
       "      <td>Battle</td>\n",
       "      <td>Octopus</td>\n",
       "      <td>I will squirt on you!</td>\n",
       "    </tr>\n",
       "    <tr>\n",
       "      <th>3</th>\n",
       "      <td>2024/10/18 2:58:32 pm CET</td>\n",
       "      <td>No</td>\n",
       "      <td>Female</td>\n",
       "      <td>Pikachu</td>\n",
       "      <td>Picnic</td>\n",
       "      <td>Octopus</td>\n",
       "      <td>I hate your shoes!</td>\n",
       "    </tr>\n",
       "    <tr>\n",
       "      <th>4</th>\n",
       "      <td>2024/10/18 2:59:12 pm CET</td>\n",
       "      <td>No</td>\n",
       "      <td>Male</td>\n",
       "      <td>Pikachu</td>\n",
       "      <td>Adventure</td>\n",
       "      <td>Kangaroo</td>\n",
       "      <td>What are we doing?</td>\n",
       "    </tr>\n",
       "    <tr>\n",
       "      <th>5</th>\n",
       "      <td>2024/10/18 2:59:22 pm CET</td>\n",
       "      <td>No</td>\n",
       "      <td>Female</td>\n",
       "      <td>Pikachu</td>\n",
       "      <td>Adventure</td>\n",
       "      <td>Snail</td>\n",
       "      <td>long talks</td>\n",
       "    </tr>\n",
       "    <tr>\n",
       "      <th>6</th>\n",
       "      <td>2024/10/18 3:00:17 pm CET</td>\n",
       "      <td>Yes</td>\n",
       "      <td>Female</td>\n",
       "      <td>Mimikyu</td>\n",
       "      <td>Adventure</td>\n",
       "      <td>Octopus</td>\n",
       "      <td>I hate you</td>\n",
       "    </tr>\n",
       "    <tr>\n",
       "      <th>7</th>\n",
       "      <td>2024/10/18 3:00:45 pm CET</td>\n",
       "      <td>No</td>\n",
       "      <td>Female</td>\n",
       "      <td>Chikorita</td>\n",
       "      <td>Adventure</td>\n",
       "      <td>Octopus</td>\n",
       "      <td>\"I will leave forever. :(\"</td>\n",
       "    </tr>\n",
       "    <tr>\n",
       "      <th>8</th>\n",
       "      <td>2024/10/18 3:06:22 pm CET</td>\n",
       "      <td>No</td>\n",
       "      <td>Female</td>\n",
       "      <td>Eevee</td>\n",
       "      <td>Adventure</td>\n",
       "      <td>Kangaroo</td>\n",
       "      <td>Anything</td>\n",
       "    </tr>\n",
       "    <tr>\n",
       "      <th>9</th>\n",
       "      <td>2024/10/18 3:06:23 pm CET</td>\n",
       "      <td>Yes</td>\n",
       "      <td>Female</td>\n",
       "      <td>Lugia</td>\n",
       "      <td>Adventure</td>\n",
       "      <td>Octopus</td>\n",
       "      <td>You're weird</td>\n",
       "    </tr>\n",
       "    <tr>\n",
       "      <th>10</th>\n",
       "      <td>2024/10/18 3:26:17 pm CET</td>\n",
       "      <td>Yes</td>\n",
       "      <td>Female</td>\n",
       "      <td>Eevee</td>\n",
       "      <td>Picnic</td>\n",
       "      <td>Octopus</td>\n",
       "      <td>NaN</td>\n",
       "    </tr>\n",
       "    <tr>\n",
       "      <th>11</th>\n",
       "      <td>2024/10/18 3:26:55 pm CET</td>\n",
       "      <td>Yes</td>\n",
       "      <td>Female</td>\n",
       "      <td>Eevee</td>\n",
       "      <td>Picnic</td>\n",
       "      <td>Octopus</td>\n",
       "      <td>I dont want you as my owner :(</td>\n",
       "    </tr>\n",
       "    <tr>\n",
       "      <th>12</th>\n",
       "      <td>2024/10/18 4:21:38 pm CET</td>\n",
       "      <td>Yes</td>\n",
       "      <td>Male</td>\n",
       "      <td>Squirtle</td>\n",
       "      <td>Adventure</td>\n",
       "      <td>Octopus</td>\n",
       "      <td>that it didn't like me</td>\n",
       "    </tr>\n",
       "    <tr>\n",
       "      <th>13</th>\n",
       "      <td>2024/10/20 3:10:02 pm CET</td>\n",
       "      <td>No</td>\n",
       "      <td>Male</td>\n",
       "      <td>Squirtle</td>\n",
       "      <td>Battle</td>\n",
       "      <td>none of the above</td>\n",
       "      <td>not sure</td>\n",
       "    </tr>\n",
       "    <tr>\n",
       "      <th>14</th>\n",
       "      <td>2024/10/21 10:39:04 am CET</td>\n",
       "      <td>Yes</td>\n",
       "      <td>Male</td>\n",
       "      <td>Squirtle</td>\n",
       "      <td>Adventure</td>\n",
       "      <td>Squid</td>\n",
       "      <td>I choose you</td>\n",
       "    </tr>\n",
       "    <tr>\n",
       "      <th>15</th>\n",
       "      <td>2024/10/21 11:15:48 am CET</td>\n",
       "      <td>Yes</td>\n",
       "      <td>Male</td>\n",
       "      <td>Squirtle</td>\n",
       "      <td>Adventure</td>\n",
       "      <td>Kangaroo</td>\n",
       "      <td>There are many more of you than us</td>\n",
       "    </tr>\n",
       "    <tr>\n",
       "      <th>16</th>\n",
       "      <td>2024/10/21 11:49:18 am CET</td>\n",
       "      <td>No</td>\n",
       "      <td>Male</td>\n",
       "      <td>Lugia</td>\n",
       "      <td>Adventure</td>\n",
       "      <td>Octopus</td>\n",
       "      <td>we actually don't like being slaves to humans ...</td>\n",
       "    </tr>\n",
       "  </tbody>\n",
       "</table>\n",
       "</div>"
      ],
      "text/plain": [
       "                     Timestamp  pet  Gender    pokemon day_with_pokemon  \\\n",
       "0    2024/10/18 2:57:33 pm CET   No  Female     Gengar           Battle   \n",
       "1    2024/10/18 2:57:54 pm CET  Yes  Female    Pikachu           Picnic   \n",
       "2    2024/10/18 2:58:23 pm CET  Yes    Male   Squirtle           Battle   \n",
       "3    2024/10/18 2:58:32 pm CET   No  Female    Pikachu           Picnic   \n",
       "4    2024/10/18 2:59:12 pm CET   No    Male    Pikachu        Adventure   \n",
       "5    2024/10/18 2:59:22 pm CET   No  Female    Pikachu        Adventure   \n",
       "6    2024/10/18 3:00:17 pm CET  Yes  Female    Mimikyu        Adventure   \n",
       "7    2024/10/18 3:00:45 pm CET   No  Female  Chikorita        Adventure   \n",
       "8    2024/10/18 3:06:22 pm CET   No  Female      Eevee        Adventure   \n",
       "9    2024/10/18 3:06:23 pm CET  Yes  Female      Lugia        Adventure   \n",
       "10   2024/10/18 3:26:17 pm CET  Yes  Female      Eevee           Picnic   \n",
       "11   2024/10/18 3:26:55 pm CET  Yes  Female      Eevee           Picnic   \n",
       "12   2024/10/18 4:21:38 pm CET  Yes    Male   Squirtle        Adventure   \n",
       "13   2024/10/20 3:10:02 pm CET   No    Male   Squirtle           Battle   \n",
       "14  2024/10/21 10:39:04 am CET  Yes    Male   Squirtle        Adventure   \n",
       "15  2024/10/21 11:15:48 am CET  Yes    Male   Squirtle        Adventure   \n",
       "16  2024/10/21 11:49:18 am CET   No    Male      Lugia        Adventure   \n",
       "\n",
       "               animal                                       talk_pokemon  \n",
       "0            Kangaroo             That the end of the world is near ....  \n",
       "1               Snail                                           kill you  \n",
       "2             Octopus                              I will squirt on you!  \n",
       "3             Octopus                                 I hate your shoes!  \n",
       "4            Kangaroo                                 What are we doing?  \n",
       "5               Snail                                         long talks  \n",
       "6             Octopus                                         I hate you  \n",
       "7             Octopus                         \"I will leave forever. :(\"  \n",
       "8            Kangaroo                                           Anything  \n",
       "9             Octopus                                       You're weird  \n",
       "10            Octopus                                                NaN  \n",
       "11            Octopus                    I dont want you as my owner :(   \n",
       "12            Octopus                            that it didn't like me   \n",
       "13  none of the above                                           not sure  \n",
       "14              Squid                                       I choose you  \n",
       "15           Kangaroo                There are many more of you than us   \n",
       "16            Octopus  we actually don't like being slaves to humans ...  "
      ]
     },
     "execution_count": 4,
     "metadata": {},
     "output_type": "execute_result"
    }
   ],
   "source": [
    "question = pd.read_csv(path)\n",
    "question.head(17)"
   ]
  },
  {
   "cell_type": "code",
   "execution_count": 27,
   "id": "49409319-85d7-4c75-b58c-67e862965acb",
   "metadata": {},
   "outputs": [
    {
     "data": {
      "text/html": [
       "<div>\n",
       "<style scoped>\n",
       "    .dataframe tbody tr th:only-of-type {\n",
       "        vertical-align: middle;\n",
       "    }\n",
       "\n",
       "    .dataframe tbody tr th {\n",
       "        vertical-align: top;\n",
       "    }\n",
       "\n",
       "    .dataframe thead th {\n",
       "        text-align: right;\n",
       "    }\n",
       "</style>\n",
       "<table border=\"1\" class=\"dataframe\">\n",
       "  <thead>\n",
       "    <tr style=\"text-align: right;\">\n",
       "      <th></th>\n",
       "      <th>Timestamp</th>\n",
       "      <th>pet</th>\n",
       "      <th>Gender</th>\n",
       "      <th>pokemon</th>\n",
       "      <th>day_with_pokemon</th>\n",
       "      <th>animal</th>\n",
       "      <th>talk_pokemon</th>\n",
       "    </tr>\n",
       "  </thead>\n",
       "  <tbody>\n",
       "  </tbody>\n",
       "</table>\n",
       "</div>"
      ],
      "text/plain": [
       "Empty DataFrame\n",
       "Columns: [Timestamp, pet, Gender, pokemon, day_with_pokemon, animal, talk_pokemon]\n",
       "Index: []"
      ]
     },
     "execution_count": 27,
     "metadata": {},
     "output_type": "execute_result"
    }
   ],
   "source": [
    "question.loc[question.animal =='squid']"
   ]
  },
  {
   "cell_type": "code",
   "execution_count": 28,
   "id": "2fc94cca-13ae-44fc-a0f8-2cc297610e72",
   "metadata": {},
   "outputs": [
    {
     "data": {
      "text/plain": [
       "Index(['Timestamp', 'pet', 'Gender', 'pokemon', 'day_with_pokemon', 'animal',\n",
       "       'talk_pokemon'],\n",
       "      dtype='object')"
      ]
     },
     "execution_count": 28,
     "metadata": {},
     "output_type": "execute_result"
    }
   ],
   "source": [
    "question.columns"
   ]
  },
  {
   "cell_type": "code",
   "execution_count": 41,
   "id": "4a2df39c-ddfa-4375-b92b-369e91be8109",
   "metadata": {},
   "outputs": [
    {
     "data": {
      "text/plain": [
       "0     Female\n",
       "1     Female\n",
       "2       Male\n",
       "3     Female\n",
       "4       Male\n",
       "5     Female\n",
       "6     Female\n",
       "7     Female\n",
       "8     Female\n",
       "9     Female\n",
       "10    Female\n",
       "11    Female\n",
       "12      Male\n",
       "13      Male\n",
       "14      Male\n",
       "15      Male\n",
       "16      Male\n",
       "Name: Gender, dtype: object"
      ]
     },
     "execution_count": 41,
     "metadata": {},
     "output_type": "execute_result"
    }
   ],
   "source": [
    "question.Gender"
   ]
  },
  {
   "cell_type": "code",
   "execution_count": 44,
   "id": "a2948aa3-47c5-4262-bbc0-ee4022462d45",
   "metadata": {},
   "outputs": [
    {
     "data": {
      "text/plain": [
       "0     False\n",
       "1     False\n",
       "2      True\n",
       "3     False\n",
       "4      True\n",
       "5     False\n",
       "6     False\n",
       "7     False\n",
       "8     False\n",
       "9     False\n",
       "10    False\n",
       "11    False\n",
       "12     True\n",
       "13     True\n",
       "14     True\n",
       "15     True\n",
       "16     True\n",
       "Name: Gender, dtype: bool"
      ]
     },
     "execution_count": 44,
     "metadata": {},
     "output_type": "execute_result"
    }
   ],
   "source": [
    "question['Gender'] == 'Male'"
   ]
  },
  {
   "cell_type": "code",
   "execution_count": 63,
   "id": "fc487f3b-d609-4198-8a0a-aaf97adfc25e",
   "metadata": {},
   "outputs": [
    {
     "name": "stdout",
     "output_type": "stream",
     "text": [
      "1\n"
     ]
    }
   ],
   "source": [
    "male_pikachu_number = question[(question['Gender'] == 'Male') & (question['pokemon'] == 'Pikachu')].shape[0]\n",
    "print(male_pikachu_number)"
   ]
  },
  {
   "cell_type": "code",
   "execution_count": 62,
   "id": "ee65c081-81fb-41f6-a889-9b1ba2eb29dc",
   "metadata": {},
   "outputs": [
    {
     "name": "stdout",
     "output_type": "stream",
     "text": [
      "3\n"
     ]
    }
   ],
   "source": [
    "female_pikachu_number = question[(question['Gender'] == 'Female') & (question['pokemon'] == 'Pikachu')].shape[0]\n",
    "print(female_pikachu_number)"
   ]
  },
  {
   "cell_type": "code",
   "execution_count": 15,
   "id": "c8931aff-c3c4-4342-9d8c-384dbcd74b55",
   "metadata": {},
   "outputs": [
    {
     "data": {
      "text/plain": [
       "Text(0.5, 1.0, 'Number of animal')"
      ]
     },
     "execution_count": 15,
     "metadata": {},
     "output_type": "execute_result"
    },
    {
     "data": {
      "image/png": "[encoded data removed]",
      "text/plain": [
       "<Figure size 640x480 with 1 Axes>"
      ]
     },
     "metadata": {},
     "output_type": "display_data"
    }
   ],
   "source": [
    "plt.hist(question.animal, bins=15)\n",
    "plt.xlabel('animal')\n",
    "plt.ylabel('Number of animal')\n",
    "plt.title('Number of animal')"
   ]
  },
  {
   "cell_type": "code",
   "execution_count": 16,
   "id": "3fbaafb2-d876-4c6d-8932-79ccf3b1e641",
   "metadata": {},
   "outputs": [],
   "source": [
    "# Most people want to become octopuses."
   ]
  },
  {
   "cell_type": "code",
   "execution_count": 134,
   "id": "1d9cadbb-9c43-4334-a461-750818a78acc",
   "metadata": {},
   "outputs": [
    {
     "data": {
      "image/png": "[encoded data removed]",
      "text/plain": [
       "<Figure size 640x480 with 1 Axes>"
      ]
     },
     "metadata": {},
     "output_type": "display_data"
    }
   ],
   "source": [
    "gender_counts = question.groupby(['Gender', 'pet']).size().unstack(fill_value=0)\n",
    "gender_counts.plot.bar(stacked=True)\n",
    "plt.title('people have pet')\n",
    "plt.xlabel('Gender')\n",
    "plt.ylabel('Count')\n",
    "plt.xticks(rotation=45)\n",
    "plt.show()"
   ]
  },
  {
   "cell_type": "code",
   "execution_count": 9,
   "id": "6512ce40-66c5-4810-bb3f-ee9b50a1fc84",
   "metadata": {},
   "outputs": [],
   "source": [
    "#The number of males and females with pets is almost 50/50."
   ]
  },
  {
   "cell_type": "code",
   "execution_count": 116,
   "id": "eb1b85fa-5410-434e-aa1c-de804ec94873",
   "metadata": {},
   "outputs": [
    {
     "data": {
      "image/png": "[encoded data removed]",
      "text/plain": [
       "<Figure size 640x480 with 1 Axes>"
      ]
     },
     "metadata": {},
     "output_type": "display_data"
    }
   ],
   "source": [
    "gender_counts = question.groupby(['pokemon', 'Gender']).size().unstack(fill_value=0)\n",
    "gender_counts.plot(kind='bar', stacked=False)\n",
    "plt.title('Gender Distribution by Pokemon')\n",
    "plt.xlabel('Pokémon')\n",
    "plt.ylabel('Count')\n",
    "plt.legend(title='Gender')\n",
    "plt.xticks(rotation=45)\n",
    "plt.show()"
   ]
  },
  {
   "cell_type": "code",
   "execution_count": 17,
   "id": "8334165e-219c-4968-8586-7105fe202ac0",
   "metadata": {},
   "outputs": [],
   "source": [
    "#Only male chose Squirtle, the female prefer eevee and Pikachu."
   ]
  },
  {
   "cell_type": "code",
   "execution_count": 6,
   "id": "9deb58e2-b748-4d47-8108-a55128991bc8",
   "metadata": {},
   "outputs": [
    {
     "data": {
      "image/png": "[encoded data removed]",
      "text/plain": [
       "<Figure size 640x480 with 1 Axes>"
      ]
     },
     "metadata": {},
     "output_type": "display_data"
    }
   ],
   "source": [
    "gender_counts = question.groupby(['pokemon', 'day_with_pokemon']).size().unstack(fill_value=0)\n",
    "gender_counts.plot(kind='bar', stacked=False)\n",
    "plt.title('day with Pokemon')\n",
    "plt.xlabel('Pokémon')\n",
    "plt.ylabel('Count')\n",
    "plt.legend(title='Gender')\n",
    "plt.xticks(rotation=45)\n",
    "plt.show()"
   ]
  },
  {
   "cell_type": "code",
   "execution_count": 8,
   "id": "671624ea-c8e5-4110-a54d-d30df2620b82",
   "metadata": {},
   "outputs": [],
   "source": [
    "#Only Pikachu and eevee were chosen for the picnic.\n",
    "#Those who chose Gengar only want to battle."
   ]
  },
  {
   "cell_type": "code",
   "execution_count": null,
   "id": "6a684fd7-905e-46fc-9b3a-aa5ecdac87f8",
   "metadata": {},
   "outputs": [],
   "source": []
  }
 ],
 "metadata": {
  "kernelspec": {
   "display_name": "Python 3 (ipykernel)",
   "language": "python",
   "name": "python3"
  },
  "language_info": {
   "codemirror_mode": {
    "name": "ipython",
    "version": 3
   },
   "file_extension": ".py",
   "mimetype": "text/x-python",
   "name": "python",
   "nbconvert_exporter": "python",
   "pygments_lexer": "ipython3",
   "version": "3.12.7"
  }
 },
 "nbformat": 4,
 "nbformat_minor": 5
}
