{
 "cells": [
  {
   "cell_type": "code",
   "execution_count": 1,
   "id": "287425e4-9eb8-4cdc-a9f0-ab112d3e62b2",
   "metadata": {},
   "outputs": [],
   "source": [
    "my_string=\"Hello,this is my little string!\"\n",
    "words_in_string=my_string.split()"
   ]
  },
  {
   "cell_type": "code",
   "execution_count": 2,
   "id": "74e0b8a0-58ad-4635-ac22-f3eabf8f6a89",
   "metadata": {},
   "outputs": [
    {
     "name": "stdout",
     "output_type": "stream",
     "text": [
      "['Hello,this', 'is', 'my', 'little', 'string!']\n"
     ]
    }
   ],
   "source": [
    "print(words_in_string)"
   ]
  },
  {
   "cell_type": "code",
   "execution_count": 3,
   "id": "589ad8b3-de13-4086-ad90-ccfb11a7b672",
   "metadata": {},
   "outputs": [],
   "source": [
    "makine_a_point=\"square brackets means a list\"\n",
    "#split breaks a string on the 'withspace'and makes a list of the indiviq"
   ]
  },
  {
   "cell_type": "code",
   "execution_count": 4,
   "id": "2fcca269-abc1-4c6f-aa41-a611eb528fa7",
   "metadata": {},
   "outputs": [
    {
     "ename": "NameError",
     "evalue": "name 'my_words' is not defined",
     "output_type": "error",
     "traceback": [
      "\u001b[1;31m---------------------------------------------------------------------------\u001b[0m",
      "\u001b[1;31mNameError\u001b[0m                                 Traceback (most recent call last)",
      "Cell \u001b[1;32mIn[4], line 2\u001b[0m\n\u001b[0;32m      1\u001b[0m \u001b[38;5;66;03m#join puts the list of words back together\u001b[39;00m\n\u001b[1;32m----> 2\u001b[0m big_point\u001b[38;5;241m=\u001b[39m\u001b[38;5;124m\"\u001b[39m\u001b[38;5;124mCLAP\u001b[39m\u001b[38;5;124m\"\u001b[39m\u001b[38;5;241m.\u001b[39mjoin(\u001b[43mmy_words\u001b[49m)\n\u001b[0;32m      3\u001b[0m \u001b[38;5;28mprint\u001b[39m(big_point)\n",
      "\u001b[1;31mNameError\u001b[0m: name 'my_words' is not defined"
     ]
    }
   ],
   "source": [
    "#join puts the list of words back together\n",
    "big_point=\"CLAP\".join(my_words)\n",
    "print(big_point)"
   ]
  },
  {
   "cell_type": "code",
   "execution_count": 10,
   "id": "8966d746-ad79-493d-a700-479e4dfd0343",
   "metadata": {},
   "outputs": [],
   "source": [
    "list_languages= ['c-sharp','processing','cinder','matlab','COBOL']"
   ]
  },
  {
   "cell_type": "code",
   "execution_count": 11,
   "id": "06d20300-fac2-4dd0-892e-440580b18964",
   "metadata": {},
   "outputs": [
    {
     "name": "stdout",
     "output_type": "stream",
     "text": [
      "['cinder', 'COBOL', 'processing', 'c-sharp', 'matlab']\n"
     ]
    }
   ],
   "source": [
    "import random\n",
    "random.shuffle(list_languages)\n",
    "print(list_languages)"
   ]
  },
  {
   "cell_type": "code",
   "execution_count": 13,
   "id": "d37f3dbe-9013-4e8e-959c-0d4bac653c84",
   "metadata": {},
   "outputs": [
    {
     "data": {
      "text/plain": [
       "'matlab'"
      ]
     },
     "execution_count": 13,
     "metadata": {},
     "output_type": "execute_result"
    }
   ],
   "source": [
    "random.choice(list_languages)"
   ]
  },
  {
   "cell_type": "code",
   "execution_count": 14,
   "id": "d1d4a713-8f10-4caf-995f-d1f2eaea81c5",
   "metadata": {},
   "outputs": [
    {
     "data": {
      "text/plain": [
       "['matlab', 'cinder', 'processing']"
      ]
     },
     "execution_count": 14,
     "metadata": {},
     "output_type": "execute_result"
    }
   ],
   "source": [
    "random.sample(list_languages,3)"
   ]
  },
  {
   "cell_type": "code",
   "execution_count": 18,
   "id": "63a26425-9196-47a8-87eb-2b02f3a0ddf2",
   "metadata": {},
   "outputs": [],
   "source": [
    "empty_list=[]\n",
    "empty_dictionary={}\n",
    "my_first_dictionary={\"key\":1}"
   ]
  },
  {
   "cell_type": "code",
   "execution_count": 19,
   "id": "8d46bc10-47ef-4d98-82a5-7890db595cc2",
   "metadata": {},
   "outputs": [
    {
     "name": "stdout",
     "output_type": "stream",
     "text": [
      "2\n"
     ]
    }
   ],
   "source": [
    "my_first_dictionary['k']=2\n",
    "print(my_first_dictionary['k'])"
   ]
  },
  {
   "cell_type": "code",
   "execution_count": 20,
   "id": "0267dea9-2e8a-4796-bc95-4847a808f518",
   "metadata": {},
   "outputs": [
    {
     "name": "stdout",
     "output_type": "stream",
     "text": [
      "{'key': 1, 'k': 2}\n"
     ]
    }
   ],
   "source": [
    "print(my_first_dictionary)"
   ]
  },
  {
   "cell_type": "code",
   "execution_count": 21,
   "id": "92e3be7f-4401-4f7c-9e2f-41659f89e5de",
   "metadata": {},
   "outputs": [
    {
     "name": "stdout",
     "output_type": "stream",
     "text": [
      "{'key': 1, 'k': 4}\n"
     ]
    }
   ],
   "source": [
    "my_first_dictionary['k']+=2\n",
    "print(my_first_dictionary)"
   ]
  },
  {
   "cell_type": "code",
   "execution_count": 22,
   "id": "b52df8c2-383d-43f3-885c-2aa024bd03a3",
   "metadata": {},
   "outputs": [],
   "source": [
    "team_wins={'Blue':0,'Red':0,'Yellow':0}"
   ]
  },
  {
   "cell_type": "code",
   "execution_count": 31,
   "id": "8b7b1984-9e3a-44c5-8925-32381ad2c3f0",
   "metadata": {},
   "outputs": [],
   "source": [
    "season_wins=['Blue','Red','Yellow','Yellow','Blue','Green','Green']"
   ]
  },
  {
   "cell_type": "code",
   "execution_count": 36,
   "id": "afb2fe17-e9f2-4002-940f-70276f36acbd",
   "metadata": {},
   "outputs": [
    {
     "name": "stdout",
     "output_type": "stream",
     "text": [
      "{'Blue': 8, 'Red': 6, 'Yellow': 8, 'Green': 5}\n"
     ]
    }
   ],
   "source": [
    "for winning_team in season_wins:\n",
    "    #if the team is in the dictionary,add to the team\n",
    "    if winning_team in team_wins:\n",
    "        team_wins[winning_team]+=1\n",
    "    #if the team was not registered add the team\n",
    "    else:\n",
    "        team_wins[winning_team] = 1\n",
    "print(team_wins)"
   ]
  },
  {
   "cell_type": "code",
   "execution_count": 33,
   "id": "44caf421-2f47-4224-aff1-0ecd74fcaa47",
   "metadata": {},
   "outputs": [
    {
     "name": "stdout",
     "output_type": "stream",
     "text": [
      "{'Blue': 4, 'Red': 4, 'Yellow': 4, 'Green': 3}\n"
     ]
    }
   ],
   "source": [
    "team_wins['Red']+=1\n",
    "print(team_wins)"
   ]
  },
  {
   "cell_type": "code",
   "execution_count": 34,
   "id": "92d35501-e8ea-4c4f-a723-6172f9795f8d",
   "metadata": {},
   "outputs": [
    {
     "name": "stdout",
     "output_type": "stream",
     "text": [
      "{'Blue': 4, 'Red': 4, 'Yellow': 4, 'Green': 1}\n"
     ]
    }
   ],
   "source": [
    "team_wins['Green'] = 1\n",
    "print(team_wins)"
   ]
  },
  {
   "cell_type": "code",
   "execution_count": 37,
   "id": "9a90d073-e26f-4e0b-8b91-88332f1bff72",
   "metadata": {},
   "outputs": [
    {
     "name": "stdout",
     "output_type": "stream",
     "text": [
      "{'Blue': 8, 'Red': 6, 'Yellow': 8}\n"
     ]
    }
   ],
   "source": [
    "del team_wins['Green']\n",
    "print(team_wins)"
   ]
  },
  {
   "cell_type": "code",
   "execution_count": 39,
   "id": "29a5d098-180e-4b0f-a006-6a0affdd64f3",
   "metadata": {},
   "outputs": [
    {
     "name": "stdout",
     "output_type": "stream",
     "text": [
      "5\n",
      "big apple\n",
      "northeast\n"
     ]
    }
   ],
   "source": [
    "#keys lesf side of:\n",
    "#values right side of:\n",
    "new_york = {'boroughs':5,'nickname':'big apple','us_region':'northeast'}\n",
    "\n",
    "for key in new_york:\n",
    "    print(new_york[key])"
   ]
  },
  {
   "cell_type": "code",
   "execution_count": 44,
   "id": "22a429be-ae5a-47fb-9a10-3f253985bde9",
   "metadata": {},
   "outputs": [
    {
     "name": "stdout",
     "output_type": "stream",
     "text": [
      "code\n"
     ]
    }
   ],
   "source": [
    "cta={'classes':['code','future machines','game engines'],'num':['1','2','3']}\n",
    "     #when it is a dicttionary,we use key!\n",
    "print(cta['classes'][0])"
   ]
  },
  {
   "cell_type": "code",
   "execution_count": 45,
   "id": "fbb41562-8ec3-4937-b38b-185e2a641164",
   "metadata": {},
   "outputs": [
    {
     "name": "stdout",
     "output_type": "stream",
     "text": [
      "3\n"
     ]
    }
   ],
   "source": [
    "print(len(cta['classes']))"
   ]
  },
  {
   "cell_type": "code",
   "execution_count": null,
   "id": "c79fb586-f05a-4f24-8b43-0c5d678de5fd",
   "metadata": {},
   "outputs": [],
   "source": []
  }
 ],
 "metadata": {
  "kernelspec": {
   "display_name": "Python 3 (ipykernel)",
   "language": "python",
   "name": "python3"
  },
  "language_info": {
   "codemirror_mode": {
    "name": "ipython",
    "version": 3
   },
   "file_extension": ".py",
   "mimetype": "text/x-python",
   "name": "python",
   "nbconvert_exporter": "python",
   "pygments_lexer": "ipython3",
   "version": "3.12.7"
  }
 },
 "nbformat": 4,
 "nbformat_minor": 5
}
