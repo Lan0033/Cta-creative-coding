{
 "cells": [
  {
   "cell_type": "code",
   "execution_count": 1,
   "id": "17d2e4fd-19fc-4a99-b4aa-bb44b0e4df21",
   "metadata": {},
   "outputs": [],
   "source": [
    "first_list=[1,2,3]"
   ]
  },
  {
   "cell_type": "code",
   "execution_count": 2,
   "id": "0c190c2c-8671-4cc3-89b7-551da92e95b8",
   "metadata": {},
   "outputs": [
    {
     "name": "stdout",
     "output_type": "stream",
     "text": [
      "[1, 2, 3]\n"
     ]
    }
   ],
   "source": [
    "print(first_list)"
   ]
  },
  {
   "cell_type": "code",
   "execution_count": 3,
   "id": "a87924f3-cbf0-4662-9833-354361a9b161",
   "metadata": {},
   "outputs": [],
   "source": [
    "math_list=[5-4,2*4,30/2]"
   ]
  },
  {
   "cell_type": "code",
   "execution_count": 4,
   "id": "e0ca6940-3c47-498f-a738-f11f7cd778e3",
   "metadata": {},
   "outputs": [
    {
     "name": "stdout",
     "output_type": "stream",
     "text": [
      "[1, 8, 15.0]\n"
     ]
    }
   ],
   "source": [
    "print(math_list)"
   ]
  },
  {
   "cell_type": "code",
   "execution_count": 5,
   "id": "4e977373-786d-4700-96b6-8cff42a00319",
   "metadata": {},
   "outputs": [],
   "source": [
    "mixed_list=[True,5.0,\"Help\",1234,]"
   ]
  },
  {
   "cell_type": "code",
   "execution_count": 7,
   "id": "13cfa3f8-2eed-42b8-a22e-b3543b84b727",
   "metadata": {},
   "outputs": [
    {
     "data": {
      "text/plain": [
       "3"
      ]
     },
     "execution_count": 7,
     "metadata": {},
     "output_type": "execute_result"
    }
   ],
   "source": [
    "len(math_list)"
   ]
  },
  {
   "cell_type": "code",
   "execution_count": 8,
   "id": "476d876e-db1f-4c7b-b0db-ed593161ae59",
   "metadata": {},
   "outputs": [
    {
     "data": {
      "text/plain": [
       "'Help'"
      ]
     },
     "execution_count": 8,
     "metadata": {},
     "output_type": "execute_result"
    }
   ],
   "source": [
    "mixed_list[2]"
   ]
  },
  {
   "cell_type": "code",
   "execution_count": 10,
   "id": "1baf9376-2982-4095-a8e0-437c9140abe5",
   "metadata": {},
   "outputs": [
    {
     "data": {
      "text/plain": [
       "[5.0, 'Help', 1234]"
      ]
     },
     "execution_count": 10,
     "metadata": {},
     "output_type": "execute_result"
    }
   ],
   "source": [
    "mixed_list[1:4]"
   ]
  },
  {
   "cell_type": "code",
   "execution_count": 13,
   "id": "4061c3de-2496-46f1-a89f-43aa9df7d86f",
   "metadata": {},
   "outputs": [
    {
     "data": {
      "text/plain": [
       "[1234]"
      ]
     },
     "execution_count": 13,
     "metadata": {},
     "output_type": "execute_result"
    }
   ],
   "source": [
    "mixed_list[-1:]"
   ]
  },
  {
   "cell_type": "code",
   "execution_count": 18,
   "id": "eb5f576a-23b9-4d1f-95db-e981a8fcf87a",
   "metadata": {},
   "outputs": [],
   "source": [
    "#key different between string and a list\n",
    "#immutable vs mutable\n",
    "#string bukeyigai list keyigai\n",
    "my_string=\"Hello\"\n",
    "my_list=[\"1\",\"3\",\"h\",\"o\",]"
   ]
  },
  {
   "cell_type": "code",
   "execution_count": 19,
   "id": "f1eaa6be-5ab9-424d-b806-8e1a2c30c0a5",
   "metadata": {},
   "outputs": [
    {
     "name": "stdout",
     "output_type": "stream",
     "text": [
      "['1', '3', 'h', 'o', 5]\n"
     ]
    }
   ],
   "source": [
    "#append adds on element to the end of a list\n",
    "my_list.append(5)\n",
    "print(my_list)"
   ]
  },
  {
   "cell_type": "code",
   "execution_count": 25,
   "id": "6c8b0dd4-f6f8-4302-ad01-6895ffd20e42",
   "metadata": {},
   "outputs": [
    {
     "name": "stdout",
     "output_type": "stream",
     "text": [
      "['3', 'o', 5]\n"
     ]
    }
   ],
   "source": [
    "my_list.remove('h')\n",
    "print(my_list)"
   ]
  },
  {
   "cell_type": "markdown",
   "id": "6223d5aa-3f13-47f2-8e74-d8ee2510928a",
   "metadata": {},
   "source": [
    "my_list.reverse()\n",
    "print(my_list)"
   ]
  },
  {
   "cell_type": "code",
   "execution_count": 27,
   "id": "fdbf9806-5625-416d-9eed-4b041d0443e2",
   "metadata": {},
   "outputs": [],
   "source": [
    "mixed_nums_animals=[3,'dog',2,'cat',7]"
   ]
  },
  {
   "cell_type": "code",
   "execution_count": 31,
   "id": "6c16fd8f-40ae-4198-881a-eeb1bc8505ec",
   "metadata": {},
   "outputs": [
    {
     "name": "stdout",
     "output_type": "stream",
     "text": [
      "[3, 2, 7]\n"
     ]
    }
   ],
   "source": [
    "max_num=[elem for elem in mixed_nums_animals if type(elem) == int]\n",
    "print(max_num)"
   ]
  },
  {
   "cell_type": "code",
   "execution_count": 33,
   "id": "6cf4bc9d-9d60-4c2f-ac86-6b6ce4cc222c",
   "metadata": {},
   "outputs": [],
   "source": [
    "numbers_list=[2,3,4,5]"
   ]
  },
  {
   "cell_type": "code",
   "execution_count": 35,
   "id": "404fb7bb-cc4f-4911-82c8-a5965b1ef37d",
   "metadata": {},
   "outputs": [
    {
     "name": "stdout",
     "output_type": "stream",
     "text": [
      "[4, 6, 8, 10]\n"
     ]
    }
   ],
   "source": [
    "list_multiply2=[]\n",
    "\n",
    "for num in numbers_list:\n",
    "    list_multiply2.append(num*2)\n",
    "print(list_multiply2)"
   ]
  },
  {
   "cell_type": "code",
   "execution_count": 43,
   "id": "fb1d4e3e-8a7b-4458-bfad-173e04671087",
   "metadata": {},
   "outputs": [
    {
     "name": "stdout",
     "output_type": "stream",
     "text": [
      "['PURPLE', 'GREEN', 'ORANGE']\n"
     ]
    }
   ],
   "source": [
    "colors=[\"purple\",\"bule\",\"red\",\"green\",\"orange\"]\n",
    "\n",
    "improved_colors=[]\n",
    "\n",
    "for color in colors:\n",
    "    if len(color)>4:\n",
    "        improved_colors. append(color.upper())\n",
    "\n",
    "print(improved_colors)"
   ]
  },
  {
   "cell_type": "code",
   "execution_count": null,
   "id": "d5f5c999-baf9-4156-a032-3704cc63d43d",
   "metadata": {},
   "outputs": [],
   "source": []
  }
 ],
 "metadata": {
  "kernelspec": {
   "display_name": "Python 3 (ipykernel)",
   "language": "python",
   "name": "python3"
  },
  "language_info": {
   "codemirror_mode": {
    "name": "ipython",
    "version": 3
   },
   "file_extension": ".py",
   "mimetype": "text/x-python",
   "name": "python",
   "nbconvert_exporter": "python",
   "pygments_lexer": "ipython3",
   "version": "3.12.7"
  }
 },
 "nbformat": 4,
 "nbformat_minor": 5
}
